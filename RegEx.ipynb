{
  "nbformat": 4,
  "nbformat_minor": 0,
  "metadata": {
    "colab": {
      "provenance": [],
      "include_colab_link": true
    },
    "kernelspec": {
      "name": "python3",
      "display_name": "Python 3"
    },
    "language_info": {
      "name": "python"
    }
  },
  "cells": [
    {
      "cell_type": "markdown",
      "metadata": {
        "id": "view-in-github",
        "colab_type": "text"
      },
      "source": [
        "<a href=\"https://colab.research.google.com/github/priyanshunayak05/NLP/blob/main/RegEx.ipynb\" target=\"_parent\"><img src=\"https://colab.research.google.com/assets/colab-badge.svg\" alt=\"Open In Colab\"/></a>"
      ]
    },
    {
      "cell_type": "markdown",
      "source": [
        "#Regular Expression\n",
        "\n",
        "Regular expressions or RegEx is a sequence of characters mainly used to find or replace patterns embedded in the text."
      ],
      "metadata": {
        "id": "mL2xQCgFA2Hm"
      }
    },
    {
      "cell_type": "markdown",
      "source": [
        "#re.match()\n",
        "\n",
        "The re.match function returns a match object on success and none on failure"
      ],
      "metadata": {
        "id": "uN_E8eiVWdcY"
      }
    },
    {
      "cell_type": "code",
      "execution_count": 1,
      "metadata": {
        "colab": {
          "base_uri": "https://localhost:8080/"
        },
        "id": "Cp3lU2sHWBEc",
        "outputId": "dbb313dc-c9a3-4c4a-d7ab-9121081dfb96"
      },
      "outputs": [
        {
          "output_type": "stream",
          "name": "stdout",
          "text": [
            "<re.Match object; span=(0, 5), match='Hello'>\n"
          ]
        }
      ],
      "source": [
        "import re\n",
        "\n",
        "# Match if the string starts with \"Hello\"\n",
        "result = re.match(\"Hello\", \"Hello world, welcome to regex!\")\n",
        "print(result)\n"
      ]
    },
    {
      "cell_type": "code",
      "source": [
        "print(result.group())"
      ],
      "metadata": {
        "colab": {
          "base_uri": "https://localhost:8080/"
        },
        "id": "Dda-nZ3eWqnG",
        "outputId": "e0c0747d-d572-4dc0-ce62-eeeeece8def5"
      },
      "execution_count": 2,
      "outputs": [
        {
          "output_type": "stream",
          "name": "stdout",
          "text": [
            "Hello\n"
          ]
        }
      ]
    },
    {
      "cell_type": "markdown",
      "source": [
        "#re.search()\n",
        "\n",
        "Matches the first occurrence of a pattern in the entire string(and not just at the beginning)"
      ],
      "metadata": {
        "id": "_NsD9ocZWhBm"
      }
    },
    {
      "cell_type": "code",
      "source": [
        "\n",
        "\n",
        "# Search for \"apple\" anywhere in the string\n",
        "result = re.search(\"apple\", \"I like green apples and red apples.\")\n",
        "print(result.group())\n"
      ],
      "metadata": {
        "colab": {
          "base_uri": "https://localhost:8080/"
        },
        "id": "pvhSSztlWPfM",
        "outputId": "386c371a-9eb2-4043-8f02-d50ee751e1e6"
      },
      "execution_count": 14,
      "outputs": [
        {
          "output_type": "stream",
          "name": "stdout",
          "text": [
            "apple\n"
          ]
        }
      ]
    },
    {
      "cell_type": "markdown",
      "source": [
        "#re.findall()\n",
        "\n",
        "It will return all the occurrences of the pattern from the string"
      ],
      "metadata": {
        "id": "8IuGnH6lXqyE"
      }
    },
    {
      "cell_type": "code",
      "source": [
        "\n",
        "\n",
        "# Find all occurrences of \"dog\"\n",
        "result = re.findall(\"dog\", \"The quick brown fox jumps over 2 lazy dogs!\")\n",
        "print(result)\n"
      ],
      "metadata": {
        "colab": {
          "base_uri": "https://localhost:8080/"
        },
        "id": "5Ldh1Y8VXP_k",
        "outputId": "f1478df9-a1e7-4a51-88db-f97c8f909109"
      },
      "execution_count": 13,
      "outputs": [
        {
          "output_type": "stream",
          "name": "stdout",
          "text": [
            "['dog']\n"
          ]
        }
      ]
    },
    {
      "cell_type": "markdown",
      "source": [
        "#Some patterns"
      ],
      "metadata": {
        "id": "ETynj6GXYgTV"
      }
    },
    {
      "cell_type": "markdown",
      "source": [
        "1. /b"
      ],
      "metadata": {
        "id": "cIuv3peCYjoL"
      }
    },
    {
      "cell_type": "code",
      "source": [
        "str = r'The quick brown fox jumps over 2 lazy dogs!'"
      ],
      "metadata": {
        "id": "KJhIo3CsXqJs"
      },
      "execution_count": 8,
      "outputs": []
    },
    {
      "cell_type": "code",
      "source": [
        "x = re.findall(r\"\\bjum\", str)\n",
        "print(x)"
      ],
      "metadata": {
        "colab": {
          "base_uri": "https://localhost:8080/"
        },
        "id": "AAk6EH-yYsNw",
        "outputId": "951107ed-9b10-420d-f10c-55e4618309b6"
      },
      "execution_count": 9,
      "outputs": [
        {
          "output_type": "stream",
          "name": "stdout",
          "text": [
            "['jum']\n"
          ]
        }
      ]
    },
    {
      "cell_type": "markdown",
      "source": [
        "2. /d"
      ],
      "metadata": {
        "id": "x8_h9AsOY9iy"
      }
    },
    {
      "cell_type": "code",
      "source": [
        "str = \"Today's date is 11 August 2025, but I think it would be 9\""
      ],
      "metadata": {
        "id": "Wi93FxlbYwWw"
      },
      "execution_count": 6,
      "outputs": []
    },
    {
      "cell_type": "code",
      "source": [
        "x = re.findall(\"\\d\", str)\n",
        "print(x)\n",
        "\n",
        "if (x):\n",
        "  print(\"There is a match\")\n",
        "else:\n",
        "  print(\"No match\")"
      ],
      "metadata": {
        "colab": {
          "base_uri": "https://localhost:8080/"
        },
        "id": "PMT5H5l-ZIg7",
        "outputId": "1d94c60c-1a5e-4c26-c39f-a8c561a54498"
      },
      "execution_count": 15,
      "outputs": [
        {
          "output_type": "stream",
          "name": "stdout",
          "text": [
            "['2']\n",
            "There is a match\n"
          ]
        }
      ]
    },
    {
      "cell_type": "code",
      "source": [
        "x = re.findall(\"\\d+\", str)\n",
        "print(x)\n",
        "\n",
        "if (x):\n",
        "  print(\"There is a match\")\n",
        "else:\n",
        "  print(\"No match\")"
      ],
      "metadata": {
        "colab": {
          "base_uri": "https://localhost:8080/"
        },
        "id": "7OhuiQGdZQgf",
        "outputId": "cc7ea35c-2d25-4d86-c216-5e015bd4105b"
      },
      "execution_count": 16,
      "outputs": [
        {
          "output_type": "stream",
          "name": "stdout",
          "text": [
            "['2']\n",
            "There is a match\n"
          ]
        }
      ]
    },
    {
      "cell_type": "code",
      "source": [
        "x = re.findall(\"\\D\", str)\n",
        "print(x)\n",
        "\n",
        "if (x):\n",
        "  print(\"There is a match\")\n",
        "else:\n",
        "  print(\"No match\")"
      ],
      "metadata": {
        "colab": {
          "base_uri": "https://localhost:8080/"
        },
        "id": "GgmcSAbiZi0D",
        "outputId": "11c4b5e4-0867-4869-bac7-20c8f9782ce5"
      },
      "execution_count": 17,
      "outputs": [
        {
          "output_type": "stream",
          "name": "stdout",
          "text": [
            "['T', 'h', 'e', ' ', 'q', 'u', 'i', 'c', 'k', ' ', 'b', 'r', 'o', 'w', 'n', ' ', 'f', 'o', 'x', ' ', 'j', 'u', 'm', 'p', 's', ' ', 'o', 'v', 'e', 'r', ' ', ' ', 'l', 'a', 'z', 'y', ' ', 'd', 'o', 'g', 's', '!']\n",
            "There is a match\n"
          ]
        }
      ]
    },
    {
      "cell_type": "code",
      "source": [
        "x = re.findall(\"\\D+\", str)\n",
        "print(x)\n",
        "\n",
        "if (x):\n",
        "  print(\"There is a match\")\n",
        "else:\n",
        "  print(\"No match\")"
      ],
      "metadata": {
        "colab": {
          "base_uri": "https://localhost:8080/"
        },
        "id": "MyJERc_fZ5pA",
        "outputId": "3550ea88-1705-4b94-a2a0-883df13c2fb0"
      },
      "execution_count": 19,
      "outputs": [
        {
          "output_type": "stream",
          "name": "stdout",
          "text": [
            "['The quick brown fox jumps over ', ' lazy dogs!']\n",
            "There is a match\n"
          ]
        }
      ]
    },
    {
      "cell_type": "markdown",
      "source": [
        "#Now just try out /w and /W"
      ],
      "metadata": {
        "id": "k8_qXwNGafzj"
      }
    },
    {
      "cell_type": "code",
      "source": [
        "\n",
        "\n",
        "str_text = r\"The quick brown fox jumps over 2 lazy dogs!\"\n",
        "str_extra = \"easy easssy eay ey\"\n",
        "\n",
        "# \\w matches word characters (letters, digits, underscore)\n",
        "print(\"Word characters:\", re.findall(r\"\\w\", str_text))\n",
        "\n",
        "# \\W matches NON-word characters\n",
        "print(\"Non-word characters:\", re.findall(r\"\\W\", str_text))\n"
      ],
      "metadata": {
        "id": "REIUHgmqaG8H",
        "colab": {
          "base_uri": "https://localhost:8080/"
        },
        "outputId": "96c483c1-1ae3-4b6a-add9-e743d3696f0f"
      },
      "execution_count": 20,
      "outputs": [
        {
          "output_type": "stream",
          "name": "stdout",
          "text": [
            "Word characters: ['T', 'h', 'e', 'q', 'u', 'i', 'c', 'k', 'b', 'r', 'o', 'w', 'n', 'f', 'o', 'x', 'j', 'u', 'm', 'p', 's', 'o', 'v', 'e', 'r', '2', 'l', 'a', 'z', 'y', 'd', 'o', 'g', 's']\n",
            "Non-word characters: [' ', ' ', ' ', ' ', ' ', ' ', ' ', ' ', '!']\n"
          ]
        }
      ]
    },
    {
      "cell_type": "markdown",
      "source": [
        "#Metacharacters\n",
        "\n",
        "characters with special meaning"
      ],
      "metadata": {
        "id": "lvEfnOt-am90"
      }
    },
    {
      "cell_type": "markdown",
      "source": [
        "1. (.)  matches any character (except newline character)"
      ],
      "metadata": {
        "id": "hnFhP-78awMd"
      }
    },
    {
      "cell_type": "code",
      "source": [
        "str = r\"The quick brown fox jumps over the lazy dog.\"\n"
      ],
      "metadata": {
        "id": "vvPQrMPfaqrD"
      },
      "execution_count": 21,
      "outputs": []
    },
    {
      "cell_type": "code",
      "source": [
        "x = re.findall(\"ju.\", str)\n",
        "x2 = re.findall(\"ju...\", str)\n",
        "\n",
        "print(x)\n",
        "print(x2)"
      ],
      "metadata": {
        "colab": {
          "base_uri": "https://localhost:8080/"
        },
        "id": "4_7hvy6Na2tz",
        "outputId": "6669fbe4-40e3-4817-a7d3-4d232251a5b8"
      },
      "execution_count": 22,
      "outputs": [
        {
          "output_type": "stream",
          "name": "stdout",
          "text": [
            "['jum']\n",
            "['jumps']\n"
          ]
        }
      ]
    },
    {
      "cell_type": "markdown",
      "source": [
        "2. (^) starts with\n",
        "\n",
        "It checks whether the string starts with the given pattern or not."
      ],
      "metadata": {
        "id": "N91q8-vGbHGo"
      }
    },
    {
      "cell_type": "code",
      "source": [
        "x = re.findall(\"^The\", str)\n",
        "\n",
        "if (x):\n",
        "  print(\"Yes\")\n",
        "else:\n",
        "  print(\"No match\")"
      ],
      "metadata": {
        "colab": {
          "base_uri": "https://localhost:8080/"
        },
        "id": "GSOk1XKTa-qv",
        "outputId": "7e0be2ae-3365-43e4-e567-e676b40bfa0a"
      },
      "execution_count": 23,
      "outputs": [
        {
          "output_type": "stream",
          "name": "stdout",
          "text": [
            "Yes\n"
          ]
        }
      ]
    },
    {
      "cell_type": "markdown",
      "source": [
        "3. ($) ends with\n",
        "\n",
        "It checks whether the string ends with the given pattern or not."
      ],
      "metadata": {
        "id": "SNTxZKDPbZCN"
      }
    },
    {
      "cell_type": "code",
      "source": [
        "str = \"Python is a very powerful language\"\n"
      ],
      "metadata": {
        "id": "6LS4aF7Rbr8-"
      },
      "execution_count": 26,
      "outputs": []
    },
    {
      "cell_type": "code",
      "source": [
        "x = re.findall(\"very$\", str)\n",
        "\n",
        "if (x):\n",
        "  print(\"Yes\")\n",
        "else:\n",
        "  print(\"No match\")"
      ],
      "metadata": {
        "colab": {
          "base_uri": "https://localhost:8080/"
        },
        "id": "4plwKMyWbQj7",
        "outputId": "c4dc11a0-9dbb-4b1c-a2e5-f4b3208abc6c"
      },
      "execution_count": 27,
      "outputs": [
        {
          "output_type": "stream",
          "name": "stdout",
          "text": [
            "No match\n"
          ]
        }
      ]
    },
    {
      "cell_type": "markdown",
      "source": [
        "4. (*) matches for zero or more occurrences of the pattern to the left of it"
      ],
      "metadata": {
        "id": "CmhfATBrb3uz"
      }
    },
    {
      "cell_type": "code",
      "source": [
        "str1 = \"easy easssy eay ey\""
      ],
      "metadata": {
        "id": "8uInAr83cYFa"
      },
      "execution_count": 45,
      "outputs": []
    },
    {
      "cell_type": "code",
      "source": [
        "x = re.findall(\"eas*y\", str1)\n",
        "print(x)\n",
        "\n",
        "if (x):\n",
        "  print(\"Yes\")\n",
        "else:\n",
        "  print(\"No match\")"
      ],
      "metadata": {
        "colab": {
          "base_uri": "https://localhost:8080/"
        },
        "id": "ZO2VW5Wnbe_b",
        "outputId": "a26f2259-0633-4a0a-aec2-d4a6f35fcd66"
      },
      "execution_count": 48,
      "outputs": [
        {
          "output_type": "stream",
          "name": "stdout",
          "text": [
            "['easy', 'easssy', 'eay']\n",
            "Yes\n"
          ]
        }
      ]
    },
    {
      "cell_type": "markdown",
      "source": [
        "5. (+) matches one or more occurrences of the pattern to the left of it"
      ],
      "metadata": {
        "id": "2H9x6-3CdHyw"
      }
    },
    {
      "cell_type": "code",
      "source": [
        "x = re.findall(\"eas+y\", str1)\n",
        "print(x)\n",
        "\n",
        "if (x):\n",
        "  print(\"Yes\")\n",
        "else:\n",
        "  print(\"No match\")"
      ],
      "metadata": {
        "colab": {
          "base_uri": "https://localhost:8080/"
        },
        "id": "CwRD1xPYcEHn",
        "outputId": "1553b5b5-9934-40f0-aec2-5e0c43ee744b"
      },
      "execution_count": 47,
      "outputs": [
        {
          "output_type": "stream",
          "name": "stdout",
          "text": [
            "['easy', 'easssy']\n",
            "Yes\n"
          ]
        }
      ]
    },
    {
      "cell_type": "markdown",
      "source": [
        "6. (?) matches zero or one occurrence of the pattern left to it."
      ],
      "metadata": {
        "id": "uUarx7yUd5p9"
      }
    },
    {
      "cell_type": "code",
      "source": [
        "x = re.findall(\"eas?y\",str1)\n",
        "\n",
        "print(x)\n",
        "\n",
        "if (x):\n",
        "  print(\"Yes\")\n",
        "else:\n",
        "  print(\"No match\")"
      ],
      "metadata": {
        "colab": {
          "base_uri": "https://localhost:8080/"
        },
        "id": "ogtGXM5DdPgP",
        "outputId": "6f653167-2c1f-467b-a25d-48684b87e4cd"
      },
      "execution_count": 49,
      "outputs": [
        {
          "output_type": "stream",
          "name": "stdout",
          "text": [
            "['easy', 'eay']\n",
            "Yes\n"
          ]
        }
      ]
    },
    {
      "cell_type": "markdown",
      "source": [
        "7. (|) either or"
      ],
      "metadata": {
        "id": "DyVwrcSjnSFU"
      }
    },
    {
      "cell_type": "code",
      "source": [
        "x = re.findall(\"very|bad\", str)\n",
        "print(x)\n",
        "\n",
        "if (x):\n",
        "  print(\"Yes\")\n",
        "else:\n",
        "  print(\"No match\")"
      ],
      "metadata": {
        "colab": {
          "base_uri": "https://localhost:8080/"
        },
        "id": "QGMPIKM0d_u_",
        "outputId": "609fd9ef-0164-449b-9de1-a0be2e0c1acb"
      },
      "execution_count": 51,
      "outputs": [
        {
          "output_type": "stream",
          "name": "stdout",
          "text": [
            "['very']\n",
            "Yes\n"
          ]
        }
      ]
    },
    {
      "cell_type": "markdown",
      "source": [
        "#Try out yourself\n",
        "\n",
        "Write the code and also write the description about what the expression does."
      ],
      "metadata": {
        "id": "ZRTdlX7X_dvm"
      }
    },
    {
      "cell_type": "markdown",
      "source": [
        "1. \\s+ - (description)\n",
        "\n",
        "(\\s+)  finds sequences of one or more spaces"
      ],
      "metadata": {
        "id": "s5NQhncH_p4_"
      }
    },
    {
      "cell_type": "code",
      "source": [
        "\n",
        "text = \"Python    is   fun\"\n",
        "result = re.findall(r\"\\s+\", text)\n",
        "\n",
        "print(\"Matches:\", result)\n"
      ],
      "metadata": {
        "id": "afFqzgcZnkoQ",
        "colab": {
          "base_uri": "https://localhost:8080/"
        },
        "outputId": "bba253d6-83b2-44e5-82a6-a9a765c2a71e"
      },
      "execution_count": 53,
      "outputs": [
        {
          "output_type": "stream",
          "name": "stdout",
          "text": [
            "Matches: ['    ', '   ']\n"
          ]
        }
      ]
    },
    {
      "cell_type": "markdown",
      "source": [
        "2. \\bcat\\b\n",
        "\n",
        "> \\bcat\\b      means match \"cat\" only if it appears as a whole word, not as part of another word.\n",
        "\n"
      ],
      "metadata": {
        "id": "Nb7rTY-E_7UO"
      }
    },
    {
      "cell_type": "code",
      "source": [
        "text = \"The cat sat on the cathedral steps.\"\n",
        "result = re.findall(r\"\\bcat\\b\", text)\n",
        "\n",
        "print(\"Matches:\", result)"
      ],
      "metadata": {
        "id": "tYYg4l5n_-Dc",
        "colab": {
          "base_uri": "https://localhost:8080/"
        },
        "outputId": "2a7d46ce-687a-47df-e02f-53cc124ae867"
      },
      "execution_count": 55,
      "outputs": [
        {
          "output_type": "stream",
          "name": "stdout",
          "text": [
            "Matches: ['cat']\n"
          ]
        }
      ]
    },
    {
      "cell_type": "markdown",
      "source": [
        "3. [A-Z][a-z]+   \n",
        "\n",
        "Together, [A-Z][a-z]+ matches any word that starts with a capital letter followed by lowercase letters."
      ],
      "metadata": {
        "id": "6ID0gXctAA-9"
      }
    },
    {
      "cell_type": "code",
      "source": [
        "text = \"London is the capital of England and Paris is in France.\"\n",
        "result = re.findall(r\"[A-Z][a-z]+\", text)\n",
        "\n",
        "print(\"Matches:\", result)"
      ],
      "metadata": {
        "id": "BHuTyTmcAAq9",
        "colab": {
          "base_uri": "https://localhost:8080/"
        },
        "outputId": "504a27dd-b2a2-4f66-eac0-1018711d6729"
      },
      "execution_count": 56,
      "outputs": [
        {
          "output_type": "stream",
          "name": "stdout",
          "text": [
            "Matches: ['London', 'England', 'Paris', 'France']\n"
          ]
        }
      ]
    },
    {
      "cell_type": "markdown",
      "source": [
        "4. https?://\\S+"
      ],
      "metadata": {
        "id": "XTSWz485AD83"
      }
    },
    {
      "cell_type": "code",
      "source": [
        "\n",
        "# the entire pattern https?://\\S+ finds complete HTTP(S) URLs in text that are space-delimited.\n",
        "text = \"Visit our site at http://example.com or our secure site at https://secure.example.com/page?query=123.\"\n",
        "\n",
        "matches = re.findall(r\"https?://\\S+\", text)\n",
        "print(\"Matches:\", matches)"
      ],
      "metadata": {
        "id": "FxrPz0WYAGYr",
        "colab": {
          "base_uri": "https://localhost:8080/"
        },
        "outputId": "521c38e6-76ae-414c-a441-2ebe57d16dfa"
      },
      "execution_count": 57,
      "outputs": [
        {
          "output_type": "stream",
          "name": "stdout",
          "text": [
            "Matches: ['http://example.com', 'https://secure.example.com/page?query=123.']\n"
          ]
        }
      ]
    },
    {
      "cell_type": "markdown",
      "source": [
        "5. <.*?>"
      ],
      "metadata": {
        "id": "4m1UNac8AInI"
      }
    },
    {
      "cell_type": "code",
      "source": [
        "#  <.*?> matches the smallest possible substring starting with < and ending with > — perfect for finding individual HTML tags.\n",
        "text = \"<p>Hello</p> <b>world</b>\"\n",
        "matches = re.findall(r\"<.*?>\", text)\n",
        "\n",
        "print(\"Matches:\", matches)"
      ],
      "metadata": {
        "id": "28O8lvC4AJSr",
        "colab": {
          "base_uri": "https://localhost:8080/"
        },
        "outputId": "f660952b-cf70-49ba-fcb6-f4bab5ab7d2e"
      },
      "execution_count": 59,
      "outputs": [
        {
          "output_type": "stream",
          "name": "stdout",
          "text": [
            "Matches: ['<p>', '</p>', '<b>', '</b>']\n"
          ]
        }
      ]
    },
    {
      "cell_type": "markdown",
      "source": [
        "6. ^[A-Za-z0-9_]+$"
      ],
      "metadata": {
        "id": "fafdfyR3ALBA"
      }
    },
    {
      "cell_type": "code",
      "source": [
        "# \"The string must contain only letters, digits, or underscores — no spaces, punctuation, or other characters — from start to finish.\"\n",
        "\n",
        "text_list = [\n",
        "    \"Python3\",\n",
        "    \"Valid_Name_123\",\n",
        "    \"invalid name\",\n",
        "    \"special@char\"\n",
        "]\n",
        "\n",
        "pattern = r\"^[A-Za-z0-9_]+$\"\n",
        "\n",
        "for text in text_list:\n",
        "    if re.match(pattern, text):\n",
        "        print(f\"{text} → Valid\")\n",
        "    else:\n",
        "        print(f\"{text} → Invalid\")\n"
      ],
      "metadata": {
        "id": "jiSLDxgjAL-3",
        "colab": {
          "base_uri": "https://localhost:8080/"
        },
        "outputId": "4302b8ba-fd08-4861-e4f3-e0e39cf83459"
      },
      "execution_count": 60,
      "outputs": [
        {
          "output_type": "stream",
          "name": "stdout",
          "text": [
            "Python3 → Valid\n",
            "Valid_Name_123 → Valid\n",
            "invalid name → Invalid\n",
            "special@char → Invalid\n"
          ]
        }
      ]
    },
    {
      "cell_type": "markdown",
      "source": [
        "7. #\\w+"
      ],
      "metadata": {
        "id": "3IHkemoFAY8e"
      }
    },
    {
      "cell_type": "code",
      "source": [
        "# Matches one or more word characters (letters, digits, underscores).\n",
        "\n",
        "text = \"Learning regex is fun! #Python #Coding #100DaysOfCode\"\n",
        "matches = re.findall(r\"#\\w+\", text)\n",
        "print(matches)"
      ],
      "metadata": {
        "id": "MpDcVWayAZvx",
        "colab": {
          "base_uri": "https://localhost:8080/"
        },
        "outputId": "dd37663e-b74a-4abd-df76-99a9c45b4236"
      },
      "execution_count": 61,
      "outputs": [
        {
          "output_type": "stream",
          "name": "stdout",
          "text": [
            "['#Python', '#Coding', '#100DaysOfCode']\n"
          ]
        }
      ]
    },
    {
      "cell_type": "markdown",
      "source": [
        "8. @\\w+"
      ],
      "metadata": {
        "id": "7OXfR6wMAaVL"
      }
    },
    {
      "cell_type": "code",
      "source": [
        "# @ → Matches the literal @.\n",
        "\n",
        "# \\w+ → Matches one or more word characters.\n",
        "\n",
        "# Finds social media mentions.\n",
        "\n",
        "text = \"Thanks @JohnDoe and @Jane_D for the help!\"\n",
        "matches = re.findall(r\"@\\w+\", text)\n",
        "print(matches)"
      ],
      "metadata": {
        "id": "k5ao8OK0AcMt",
        "colab": {
          "base_uri": "https://localhost:8080/"
        },
        "outputId": "8e488828-a7a1-4e7f-aec0-dae603090576"
      },
      "execution_count": 62,
      "outputs": [
        {
          "output_type": "stream",
          "name": "stdout",
          "text": [
            "['@JohnDoe', '@Jane_D']\n"
          ]
        }
      ]
    },
    {
      "cell_type": "markdown",
      "source": [
        "9. \\b[A-Z][a-z]+\\b"
      ],
      "metadata": {
        "id": "UJ3nHitwAczZ"
      }
    },
    {
      "cell_type": "code",
      "source": [
        "# Matches proper nouns and other capitalized words.\n",
        "text = \"Alice went to Paris with Bob.\"\n",
        "matches = re.findall(r\"\\b[A-Z][a-z]+\\b\", text)\n",
        "print(matches)"
      ],
      "metadata": {
        "id": "dDCax7ZLAe7w",
        "colab": {
          "base_uri": "https://localhost:8080/"
        },
        "outputId": "1e5fafcc-0ef7-48be-dd1a-dc9a550e73e8"
      },
      "execution_count": 63,
      "outputs": [
        {
          "output_type": "stream",
          "name": "stdout",
          "text": [
            "['Alice', 'Paris', 'Bob']\n"
          ]
        }
      ]
    },
    {
      "cell_type": "markdown",
      "source": [
        "10. \\d+(\\.\\d+)?"
      ],
      "metadata": {
        "id": "W4aAedI_Agr7"
      }
    },
    {
      "cell_type": "code",
      "source": [
        "# Matches integers and decimal numbers.\n",
        "text = \"Prices are 10, 20.5, and 300.99 dollars.\"\n",
        "matches = re.findall(r\"\\d+(\\.\\d+)?\", text)\n",
        "print(matches)"
      ],
      "metadata": {
        "id": "nZDg0jdrAhMB",
        "colab": {
          "base_uri": "https://localhost:8080/"
        },
        "outputId": "357d942c-6d77-43f2-d470-6c2ae4be3c4f"
      },
      "execution_count": 64,
      "outputs": [
        {
          "output_type": "stream",
          "name": "stdout",
          "text": [
            "['', '.5', '.99']\n"
          ]
        }
      ]
    },
    {
      "cell_type": "markdown",
      "source": [
        "11. [A-Za-z0-9._%+-]+@[A-Za-z0-9.-]+\\.[A-Za-z]{2,}"
      ],
      "metadata": {
        "id": "ac7hLazqAivp"
      }
    },
    {
      "cell_type": "code",
      "source": [
        "#  Matches valid email patterns with common allowed characters before and after @\n",
        "\n",
        "text = \"Contact us at support@example.com or info@my-site.org\"\n",
        "matches = re.findall(r\"[A-Za-z0-9._%+-]+@[A-Za-z0-9.-]+\\.[A-Za-z]{2,}\", text)\n",
        "print(matches)"
      ],
      "metadata": {
        "id": "GH5FrGaeAjQN",
        "colab": {
          "base_uri": "https://localhost:8080/"
        },
        "outputId": "73b86da2-6021-43f1-8830-463fab44ba73"
      },
      "execution_count": 65,
      "outputs": [
        {
          "output_type": "stream",
          "name": "stdout",
          "text": [
            "['support@example.com', 'info@my-site.org']\n"
          ]
        }
      ]
    },
    {
      "cell_type": "markdown",
      "source": [
        "12. https?://\\S+|www\\.\\S+"
      ],
      "metadata": {
        "id": "qAUpWLleAor2"
      }
    },
    {
      "cell_type": "code",
      "source": [
        "\n",
        "# https?:// → Matches http:// or https://.\n",
        "\n",
        "# \\S+ → One or more non-whitespace characters (rest of the URL).\n",
        "\n",
        "# | → OR.\n",
        "\n",
        "# www\\.\\S+ → Matches URLs starting with www..\n",
        "\n",
        "text = \"Visit http://example.com or https://secure.site.org or www.test.com\"\n",
        "matches = re.findall(r\"https?://\\S+|www\\.\\S+\", text)\n",
        "print(matches)"
      ],
      "metadata": {
        "id": "05IVISKUApPf",
        "colab": {
          "base_uri": "https://localhost:8080/"
        },
        "outputId": "031fb53c-30df-466c-bacd-e73e198a4d41"
      },
      "execution_count": 66,
      "outputs": [
        {
          "output_type": "stream",
          "name": "stdout",
          "text": [
            "['http://example.com', 'https://secure.site.org', 'www.test.com']\n"
          ]
        }
      ]
    },
    {
      "cell_type": "markdown",
      "source": [
        "13. [$₹€]\\d+(\\.\\d{2})?"
      ],
      "metadata": {
        "id": "jhzyMDqjAtk2"
      }
    },
    {
      "cell_type": "code",
      "source": [
        "# [$₹€] → Matches one currency symbol.\n",
        "\n",
        "# \\d+ → One or more digits.\n",
        "\n",
        "# (?:\\.\\d{2})? → Optional decimal point followed by exactly two digits.\n",
        "\n",
        "text = \"The prices are $20, ₹1500, and €99.99\"\n",
        "matches = re.findall(r\"[$₹€]\\d+(?:\\.\\d{2})?\", text)\n",
        "print(matches)"
      ],
      "metadata": {
        "id": "YjfMIfKgAuEI",
        "colab": {
          "base_uri": "https://localhost:8080/"
        },
        "outputId": "018403d2-6378-4bfa-d3b2-0508f7c4ad36"
      },
      "execution_count": 67,
      "outputs": [
        {
          "output_type": "stream",
          "name": "stdout",
          "text": [
            "['$20', '₹1500', '€99.99']\n"
          ]
        }
      ]
    },
    {
      "cell_type": "markdown",
      "source": [
        "14. \"([^\"]+)\""
      ],
      "metadata": {
        "id": "0xb3jBwoAzF7"
      }
    },
    {
      "cell_type": "code",
      "source": [
        "\n",
        "# \" → Matches a literal double quote.\n",
        "\n",
        "# ([^\"]+) → Captures one or more characters that are not a double quote.\n",
        "\n",
        "# \" → Matches closing double quote.\n",
        "\n",
        "text = 'He said, \"Hello World\" and then left.'\n",
        "matches = re.findall(r'\"([^\"]+)\"', text)\n",
        "print(matches)"
      ],
      "metadata": {
        "id": "uisTnh5mAzmg",
        "colab": {
          "base_uri": "https://localhost:8080/"
        },
        "outputId": "cf1a01e1-16ba-42db-b961-715a894c2c89"
      },
      "execution_count": 69,
      "outputs": [
        {
          "output_type": "stream",
          "name": "stdout",
          "text": [
            "['Hello World']\n"
          ]
        }
      ]
    },
    {
      "cell_type": "code",
      "source": [],
      "metadata": {
        "id": "0O8oOwr54iqh"
      },
      "execution_count": null,
      "outputs": []
    }
  ]
}